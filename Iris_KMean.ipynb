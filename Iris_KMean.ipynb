{
 "cells": [
  {
   "cell_type": "code",
   "execution_count": 1,
   "id": "104f3edf",
   "metadata": {},
   "outputs": [],
   "source": [
    "# import libraries\n",
    "import pandas as pd\n",
    "import numpy as np\n",
    "import matplotlib.pyplot as plt"
   ]
  },
  {
   "cell_type": "markdown",
   "id": "a471eafa",
   "metadata": {},
   "source": [
    "* Define class of kmeans"
   ]
  },
  {
   "cell_type": "code",
   "execution_count": 2,
   "id": "c464bcc3",
   "metadata": {},
   "outputs": [],
   "source": [
    "def euclidean_distance(x1, x2):\n",
    "    return np.sqrt(np.sum((x1-x2)**2))\n",
    "\n",
    "class Kmeans:\n",
    "\n",
    "    def __init__(self, K=5, max_iters=100, plot_steps=False):\n",
    "        self.K = K\n",
    "        self.max_iters = max_iters\n",
    "        self.plot_steps = plot_steps\n",
    "\n",
    "        # list of sample indices for each cluster\n",
    "        self.clusters = [[] for _ in range(self.K)]\n",
    "\n",
    "        # the centers (mean vector) for each cluster\n",
    "        self.centroids = []\n",
    "\n",
    "\n",
    "    def predict(self, X):\n",
    "        self.X = X\n",
    "        self.n_samples, self.n_features = X.shape\n",
    "\n",
    "        # initialize\n",
    "        random_sample_idxs = np.random.choice(self.n_samples, self.K, replace=False)\n",
    "        self.centroids = [self.X[idx] for idx in random_sample_idxs]\n",
    "\n",
    "        # optimize clusters\n",
    "        for _ in range(self.max_iters):\n",
    "            # assign samples to closest centroids (create clusters)\n",
    "            self.clusters = self._create_clusters(self.centroids)\n",
    "\n",
    "            # calculate new centroids from the clusters\n",
    "            centroids_old = self.centroids\n",
    "            self.centroids = self._get_centroids(self.clusters)\n",
    "\n",
    "            if self._is_converged(centroids_old, self.centroids):\n",
    "                break\n",
    "\n",
    "        # classify samples as the index of their clusters\n",
    "        return self._get_cluster_labels(self.clusters)\n",
    "\n",
    "\n",
    "    def _get_cluster_labels(self, clusters):\n",
    "        # each sample will get the label of the cluster it was assigned to\n",
    "        labels = np.empty(self.n_samples)\n",
    "        for cluster_idx, cluster in enumerate(clusters):\n",
    "            for sample_idx in cluster:\n",
    "                labels[sample_idx] = cluster_idx\n",
    "\n",
    "        return labels\n",
    "\n",
    "\n",
    "    def _create_clusters(self, centroids):\n",
    "        # assign the samples to the closest centroids\n",
    "        clusters = [[] for _ in range(self.K)]\n",
    "        for idx, sample in enumerate(self.X):\n",
    "            centroid_idx = self._closest_centroid(sample, centroids)\n",
    "            clusters[centroid_idx].append(idx)\n",
    "        return clusters\n",
    "\n",
    "    def _closest_centroid(self, sample, centroids):\n",
    "        # distance of the current sample to each centroid\n",
    "        distances = [euclidean_distance(sample, point) for point in centroids]\n",
    "        closest_idx = np.argmin(distances)\n",
    "        return closest_idx\n",
    "\n",
    "\n",
    "    def _get_centroids(self, clusters):\n",
    "        # assign mean value of clusters to centroids\n",
    "        centroids = np.zeros((self.K, self.n_features))\n",
    "        for cluster_idx, cluster in enumerate(clusters):\n",
    "            cluster_mean = np.mean(self.X[cluster], axis=0)\n",
    "            centroids[cluster_idx] = cluster_mean\n",
    "        return centroids\n",
    "\n",
    "    def _is_converged(self, centroids_old, centroids):\n",
    "        # distances between old and new centroids, for all centroids\n",
    "        distances = [euclidean_distance(centroids_old[i], centroids[i]) for i in range(self.K)]\n",
    "        return sum(distances) == 0\n",
    "    "
   ]
  },
  {
   "cell_type": "markdown",
   "id": "605e7679",
   "metadata": {},
   "source": [
    "* Load the Data"
   ]
  },
  {
   "cell_type": "code",
   "execution_count": 3,
   "id": "0a5d9f26",
   "metadata": {},
   "outputs": [],
   "source": [
    "iris_df = pd.read_csv('Iris Dataset.csv')"
   ]
  },
  {
   "cell_type": "code",
   "execution_count": 4,
   "id": "edc09f47",
   "metadata": {},
   "outputs": [],
   "source": [
    "iris_df.info()"
   ]
  },
  {
   "cell_type": "code",
   "execution_count": 5,
   "id": "03ab15ad",
   "metadata": {},
   "outputs": [],
   "source": [
    "# Remove unneccseary coulmn\n",
    "iris_df.drop('Id',axis=1,inplace=True)"
   ]
  },
  {
   "cell_type": "markdown",
   "id": "bdd5adef",
   "metadata": {},
   "source": [
    "* Data pre-processing"
   ]
  },
  {
   "cell_type": "code",
   "execution_count": 6,
   "id": "1e6f0944",
   "metadata": {},
   "outputs": [],
   "source": [
    "iris_df.head()"
   ]
  },
  {
   "cell_type": "code",
   "execution_count": 7,
   "id": "fa7d6d94",
   "metadata": {},
   "outputs": [],
   "source": [
    "iris_df.describe()"
   ]
  },
  {
   "cell_type": "markdown",
   "id": "5b1aa96b",
   "metadata": {},
   "source": [
    "* check any cloumn is null or not"
   ]
  },
  {
   "cell_type": "code",
   "execution_count": 8,
   "id": "9974101f",
   "metadata": {},
   "outputs": [],
   "source": [
    "iris_df.isnull().sum()"
   ]
  },
  {
   "cell_type": "markdown",
   "id": "84f3560a",
   "metadata": {},
   "source": [
    "* show unique entries in each column"
   ]
  },
  {
   "cell_type": "code",
   "execution_count": 9,
   "id": "b79cb7af",
   "metadata": {},
   "outputs": [],
   "source": [
    "iris_df.nunique()"
   ]
  },
  {
   "cell_type": "markdown",
   "id": "73a33b2b",
   "metadata": {},
   "source": [
    "* Differeniate inputs and target column"
   ]
  },
  {
   "cell_type": "code",
   "execution_count": 10,
   "id": "b68f5529",
   "metadata": {},
   "outputs": [],
   "source": [
    "y = iris_df.Species\n",
    "X = iris_df.drop('Species',axis=1)"
   ]
  },
  {
   "cell_type": "markdown",
   "id": "f838fd15",
   "metadata": {},
   "source": [
    "* Data Analysis"
   ]
  },
  {
   "cell_type": "code",
   "execution_count": 11,
   "id": "33dd1237",
   "metadata": {
    "scrolled": true
   },
   "outputs": [],
   "source": [
    "X.corr()"
   ]
  },
  {
   "cell_type": "code",
   "execution_count": 12,
   "id": "05646c6d",
   "metadata": {},
   "outputs": [],
   "source": [
    "# plot correlation matrix\n",
    "correlation_matrix = X.corr()\n",
    "plt.imshow(correlation_matrix, cmap='coolwarm', interpolation='nearest')\n",
    "plt.colorbar()\n",
    "\n",
    "annot = True\n",
    "# Adding the correlation values as annotations\n",
    "if annot:\n",
    "    for i in range(len(X.columns)):\n",
    "        for j in range(len(X.columns)):\n",
    "            text = plt.text(j, i, \"{:.2f}\".format(correlation_matrix.iloc[i, j]),\n",
    "                            ha=\"center\", va=\"center\", color=\"w\")\n",
    "\n",
    "plt.xticks(range(len(X.columns)), X.columns, rotation='vertical')\n",
    "plt.yticks(range(len(X.columns)), X.columns)\n",
    "plt.title('Correlation Matrix')\n",
    "\n",
    "plt.show()\n"
   ]
  },
  {
   "cell_type": "markdown",
   "id": "79589482",
   "metadata": {},
   "source": [
    "* Training The model"
   ]
  },
  {
   "cell_type": "code",
   "execution_count": 13,
   "id": "87858a5d",
   "metadata": {},
   "outputs": [],
   "source": [
    "np.random.seed(42)\n",
    "clusters =len(np.unique(y))\n",
    "print(clusters)"
   ]
  },
  {
   "cell_type": "code",
   "execution_count": 14,
   "id": "8456b806",
   "metadata": {},
   "outputs": [],
   "source": [
    "# Convert X to a NumPy array\n",
    "X = np.array(X)\n",
    "k = Kmeans(K=clusters,max_iters=300)"
   ]
  },
  {
   "cell_type": "code",
   "execution_count": 15,
   "id": "9fd8a561",
   "metadata": {
    "scrolled": true
   },
   "outputs": [],
   "source": [
    "y_pred = k.predict(X)"
   ]
  },
  {
   "cell_type": "markdown",
   "id": "ac243325",
   "metadata": {},
   "source": [
    "* Graph of Actual species(Target)"
   ]
  },
  {
   "cell_type": "code",
   "execution_count": 16,
   "id": "8d36e5d3",
   "metadata": {},
   "outputs": [],
   "source": [
    "df1 = iris_df[iris_df['Species']=='Iris-setosa']\n",
    "df2 = iris_df[iris_df['Species']=='Iris-versicolor']\n",
    "df3 = iris_df[iris_df['Species']=='Iris-virginica']\n",
    "\n",
    "plt.scatter(df1['PetalLengthCm'],df1['PetalWidthCm'],color='r',label='Iris-seostosa')\n",
    "plt.scatter(df2['PetalLengthCm'],df2['PetalWidthCm'],color='b',label='Iris-versicolor')\n",
    "plt.scatter(df3['PetalLengthCm'],df3['PetalWidthCm'],color='g',label='Iris-virginica')\n",
    "\n",
    "plt.legend()\n",
    "plt.show()"
   ]
  },
  {
   "cell_type": "markdown",
   "id": "d57a0c03",
   "metadata": {},
   "source": [
    "* Graph a output of clusters"
   ]
  },
  {
   "cell_type": "code",
   "execution_count": 17,
   "id": "d8fb0638",
   "metadata": {},
   "outputs": [],
   "source": [
    "plt.scatter(X[y_pred==1,2],X[y_pred==1,3],color='r',label='Iris-seostosa')\n",
    "plt.scatter(X[y_pred==0,2],X[y_pred==0,3],color='b',label='Iris-virginica')\n",
    "plt.scatter(X[y_pred==2,2],X[y_pred==2,3],color='g',label='Iris-versicolor')\n",
    "\n",
    "\n",
    "plt.legend()\n",
    "plt.show()"
   ]
  },
  {
   "cell_type": "code",
   "execution_count": null,
   "id": "e27669d6",
   "metadata": {},
   "outputs": [],
   "source": []
  },
  {
   "cell_type": "code",
   "execution_count": null,
   "id": "5bcdb50f",
   "metadata": {},
   "outputs": [],
   "source": []
  }
 ],
 "metadata": {
  "kernelspec": {
   "display_name": "Python 3 (ipykernel)",
   "language": "python",
   "name": "python3"
  },
  "language_info": {
   "codemirror_mode": {
    "name": "ipython",
    "version": 3
   },
   "file_extension": ".py",
   "mimetype": "text/x-python",
   "name": "python",
   "nbconvert_exporter": "python",
   "pygments_lexer": "ipython3",
   "version": "3.11.3"
  }
 },
 "nbformat": 4,
 "nbformat_minor": 5
}
